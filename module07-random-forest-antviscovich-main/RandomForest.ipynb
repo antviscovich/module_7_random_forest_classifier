{
 "cells": [
  {
   "cell_type": "markdown",
   "metadata": {},
   "source": [
    "### Student Name: Anthony Viscovich"
   ]
  },
  {
   "cell_type": "code",
   "execution_count": 1,
   "metadata": {},
   "outputs": [],
   "source": [
    "#TODO: import the modules\n",
    "from sklearn.ensemble import RandomForestClassifier\n",
    "from sklearn.model_selection import train_test_split\n",
    "from sklearn import metrics \n",
    "from sklearn import tree\n",
    "import pandas as pd"
   ]
  },
  {
   "cell_type": "markdown",
   "metadata": {},
   "source": [
    "### Step 1 – Load the data\n",
    "Load `trip_data.csv`, select the salient features and engineer new features (if necessary)."
   ]
  },
  {
   "cell_type": "code",
   "execution_count": 2,
   "metadata": {},
   "outputs": [],
   "source": [
    "features = ['VendorID', 'RatecodeID', 'PULocationID', 'DOLocationID', 'passenger_count', \n",
    "            'trip_distance', 'fare_amount', 'extra', 'mta_tax', 'tolls_amount', \n",
    "            'improvement_surcharge', 'total_amount', 'trip_type', 'congestion_surcharge', 'tip']\n",
    "\n",
    "file_path = 'trip_data.csv'\n",
    "df = pd.read_csv(file_path, usecols=features) \n",
    "\n",
    "\n",
    "\n",
    "X = df.iloc[:,0:14].to_numpy() #input features\n",
    "y = df.iloc[:,14].tolist() #labels\n",
    "#TODO: Load the data"
   ]
  },
  {
   "cell_type": "markdown",
   "metadata": {},
   "source": [
    "### Step 2 – Split the data"
   ]
  },
  {
   "cell_type": "code",
   "execution_count": 3,
   "metadata": {},
   "outputs": [],
   "source": [
    "X_train, X_test, y_train, y_test = train_test_split(X, y, test_size = 0.3, random_state = 42)#TODO: Split the data into training and test sets"
   ]
  },
  {
   "cell_type": "markdown",
   "metadata": {},
   "source": [
    "### Step 3 – Create the Classifier\n",
    "Use the [RandomForestClassifier](https://scikit-learn.org/stable/modules/generated/sklearn.ensemble.RandomForestClassifier.html) in scikit-learn and optimize the parameters to achieve a prediction accuracy of 95% (or higher)."
   ]
  },
  {
   "cell_type": "code",
   "execution_count": 4,
   "metadata": {},
   "outputs": [
    {
     "data": {
      "text/plain": [
       "0.953899540546304"
      ]
     },
     "execution_count": 4,
     "metadata": {},
     "output_type": "execute_result"
    }
   ],
   "source": [
    "#Create the RandomForestClassifier\n",
    "\n",
    "rf_classifier = RandomForestClassifier(criterion= 'entropy',  #TODO: provide an option \n",
    "                                    max_depth= 15,     #TODO: provide a value. The depth should not exceed 15.\n",
    "                                    max_features= 13,  #TODO: provide a suitable value\n",
    "                                    min_samples_split= 2, #TODO: provide a suitable value\n",
    "                                    n_estimators= 100, #TODO: provide a suitable value\n",
    "                                    random_state= 42 #TODO: provide a suitable value\n",
    "                                    )\n",
    "\n",
    "rf_classifier.fit(X_train, y_train) #TODO: Train classifer using the `fit` method\n",
    "\n",
    "\n",
    "y_pred = rf_classifier.predict(X_test) #TODO: Make predictions with the test set\n",
    "\n",
    "\n",
    "metrics.accuracy_score(y_test, y_pred) #TODO: evaluate the accuracy"
   ]
  },
  {
   "cell_type": "markdown",
   "metadata": {},
   "source": [
    "### Step 4 – Make predictions with new data"
   ]
  },
  {
   "cell_type": "code",
   "execution_count": 6,
   "metadata": {},
   "outputs": [
    {
     "data": {
      "text/plain": [
       "array(['low', 'no-tip', 'no-tip', 'no-tip', 'standard', 'no-tip',\n",
       "       'standard', 'standard', 'low', 'standard', 'standard', 'standard',\n",
       "       'standard', 'standard', 'low', 'standard', 'standard', 'low',\n",
       "       'standard', 'good'], dtype='<U8')"
      ]
     },
     "execution_count": 6,
     "metadata": {},
     "output_type": "execute_result"
    }
   ],
   "source": [
    "features_2 = ['VendorID', 'RatecodeID', 'PULocationID', 'DOLocationID', 'passenger_count', \n",
    "            'trip_distance', 'fare_amount', 'extra', 'mta_tax', 'tolls_amount', \n",
    "            'improvement_surcharge', 'total_amount', 'trip_type', 'congestion_surcharge']\n",
    "\n",
    "file_path_2 = 'new_trips.csv'\n",
    "df_2 = pd.read_csv(file_path_2, usecols=features_2) \n",
    "\n",
    "\n",
    "rf_classifier.predict(df_2)"
   ]
  },
  {
   "cell_type": "markdown",
   "metadata": {},
   "source": [
    "### Step 5 – Summary\n",
    "Summarize the results and explain the reason that ensemble methods can improve a model's ability to generalize."
   ]
  },
  {
   "cell_type": "markdown",
   "metadata": {},
   "source": [
    "#TODO: Explain the results: \n",
    "The model is more accurate because it relies on more than one desicion tree. It runs through 'n' value trees and uses the results to see which comes up the most for the final classification. Having multiple trees allows for more accuarcy while also mininmizing the chance of overfitting the model. The accuracy score is a clear represention as the score for past desicion tress are 87% and 92& respectively. This model gets the accuracy to just over 95%. "
   ]
  },
  {
   "cell_type": "code",
   "execution_count": null,
   "metadata": {},
   "outputs": [],
   "source": []
  }
 ],
 "metadata": {
  "kernelspec": {
   "display_name": "Python 3 (ipykernel)",
   "language": "python",
   "name": "python3"
  },
  "language_info": {
   "codemirror_mode": {
    "name": "ipython",
    "version": 3
   },
   "file_extension": ".py",
   "mimetype": "text/x-python",
   "name": "python",
   "nbconvert_exporter": "python",
   "pygments_lexer": "ipython3",
   "version": "3.9.7"
  }
 },
 "nbformat": 4,
 "nbformat_minor": 2
}
